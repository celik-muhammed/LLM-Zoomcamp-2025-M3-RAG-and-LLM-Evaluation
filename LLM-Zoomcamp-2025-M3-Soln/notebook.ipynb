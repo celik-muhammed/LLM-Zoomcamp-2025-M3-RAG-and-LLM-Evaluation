{
 "cells": [
  {
   "cell_type": "markdown",
   "id": "6bfb5dc6",
   "metadata": {},
   "source": [
    "## Homework: Search Evaluation\n",
    "\n",
    "In this homework, we will evaluate the results of vector\n",
    "search.\n",
    "\n",
    "> It's possible that your answers won't match exactly. If it's the case, select the closest one.\n",
    "\n",
    "\n",
    "## Required libraries\n",
    "\n",
    "We will use minsearch and Qdrant. Make sure you have the most up-to-date versions:\n",
    "\n",
    "```bash\n",
    "pip install -U minsearch qdrant_client\n",
    "``` \n",
    "\n",
    "minsearch should be at least 0.0.4.\n",
    "\n",
    "\n",
    "\n",
    "## Evaluation data\n",
    "\n",
    "For this homework, we will use the same dataset we generated\n",
    "in the videos.\n",
    "\n",
    "Let's get them:\n",
    "\n",
    "```python\n",
    "import requests\n",
    "import pandas as pd\n",
    "\n",
    "url_prefix = 'https://raw.githubusercontent.com/DataTalksClub/llm-zoomcamp/main/03-evaluation/'\n",
    "docs_url = url_prefix + 'search_evaluation/documents-with-ids.json'\n",
    "documents = requests.get(docs_url).json()\n",
    "\n",
    "ground_truth_url = url_prefix + 'search_evaluation/ground-truth-data.csv'\n",
    "df_ground_truth = pd.read_csv(ground_truth_url)\n",
    "ground_truth = df_ground_truth.to_dict(orient='records')\n",
    "```\n",
    "\n",
    "Here, `documents` contains the documents from the FAQ database\n",
    "with unique IDs, and `ground_truth` contains generated\n",
    "question-answer pairs. \n",
    "\n",
    "Also, we will need the code for evaluating retrieval:\n",
    "\n",
    "```python\n",
    "from tqdm.auto import tqdm\n",
    "\n",
    "def hit_rate(relevance_total):\n",
    "    cnt = 0\n",
    "\n",
    "    for line in relevance_total:\n",
    "        if True in line:\n",
    "            cnt = cnt + 1\n",
    "\n",
    "    return cnt / len(relevance_total)\n",
    "\n",
    "def mrr(relevance_total):\n",
    "    total_score = 0.0\n",
    "\n",
    "    for line in relevance_total:\n",
    "        for rank in range(len(line)):\n",
    "            if line[rank] == True:\n",
    "                total_score = total_score + 1 / (rank + 1)\n",
    "\n",
    "    return total_score / len(relevance_total)\n",
    "\n",
    "def evaluate(ground_truth, search_function):\n",
    "    relevance_total = []\n",
    "\n",
    "    for q in tqdm(ground_truth):\n",
    "        doc_id = q['document']\n",
    "        results = search_function(q)\n",
    "        relevance = [d['id'] == doc_id for d in results]\n",
    "        relevance_total.append(relevance)\n",
    "\n",
    "    return {\n",
    "        'hit_rate': hit_rate(relevance_total),\n",
    "        'mrr': mrr(relevance_total),\n",
    "    }\n",
    "```"
   ]
  },
  {
   "cell_type": "markdown",
   "id": "652774fa",
   "metadata": {},
   "source": [
    "\n",
    "\n",
    "## Q1. Minsearch text\n",
    "\n",
    "Now let's evaluate our usual minsearch approach, indexing documents with:\n",
    "```python\n",
    "text_fields=[\"question\", \"section\", \"text\"],\n",
    "keyword_fields=[\"course\", \"id\"]\n",
    "```\n",
    "but tweak the parameters for search. Let's use the following boosting params:\n",
    "\n",
    "```python\n",
    "boost = {'question': 1.5, 'section': 0.1}\n",
    "```\n",
    "\n",
    "What's the hitrate for this approach?\n",
    "\n",
    "* 0.64\n",
    "* 0.74\n",
    "* 0.84\n",
    "* 0.94"
   ]
  },
  {
   "cell_type": "code",
   "execution_count": null,
   "id": "dd3e1e0f",
   "metadata": {},
   "outputs": [],
   "source": [
    "!pip install -qq minsearch qdrant_client ipywidgets jupyter"
   ]
  },
  {
   "cell_type": "code",
   "execution_count": 1,
   "id": "b8d46692",
   "metadata": {},
   "outputs": [],
   "source": [
    "import requests  # for downloading datasets\n",
    "import pandas as pd  # for loading and handling tabular data\n",
    "from minsearch import Index  # the MinSearch class for text-based search\n",
    "from tqdm.auto import tqdm  # for progress bars during evaluation"
   ]
  },
  {
   "cell_type": "code",
   "execution_count": 2,
   "id": "8cf220a3",
   "metadata": {},
   "outputs": [],
   "source": [
    "# Define base URL to GitHub raw data\n",
    "url_prefix = 'https://raw.githubusercontent.com/DataTalksClub/llm-zoomcamp/main/03-evaluation/'\n",
    "\n",
    "# URL for the documents JSON file\n",
    "docs_url = url_prefix + 'search_evaluation/documents-with-ids.json'\n",
    "\n",
    "# Download and parse the documents\n",
    "documents = requests.get(docs_url).json()\n",
    "\n",
    "# URL for the ground truth CSV file\n",
    "ground_truth_url = url_prefix + 'search_evaluation/ground-truth-data.csv'\n",
    "\n",
    "# Load ground truth into a DataFrame\n",
    "df_ground_truth = pd.read_csv(ground_truth_url)\n",
    "\n",
    "# Convert DataFrame to list of dictionaries for easier processing\n",
    "ground_truth = df_ground_truth.to_dict(orient='records')\n"
   ]
  },
  {
   "cell_type": "code",
   "execution_count": 3,
   "id": "da1dd237",
   "metadata": {},
   "outputs": [],
   "source": [
    "# Compute Hit Rate: % of queries for which the correct document was retrieved\n",
    "def hit_rate(relevance_total):\n",
    "    cnt = 0\n",
    "    for line in relevance_total:\n",
    "        if True in line:  # If any retrieved doc matches the correct ID\n",
    "            cnt = cnt + 1\n",
    "    return cnt / len(relevance_total)\n",
    "\n",
    "# Compute Mean Reciprocal Rank (MRR)\n",
    "def mrr(relevance_total):\n",
    "    total_score = 0.0\n",
    "    for line in relevance_total:\n",
    "        for rank in range(len(line)):\n",
    "            if line[rank] == True:  # True means relevant doc found at this rank\n",
    "                total_score = total_score + 1 / (rank + 1)\n",
    "                break  # only the first correct hit counts for MRR\n",
    "    return total_score / len(relevance_total)\n",
    "\n",
    "# Main evaluation loop\n",
    "def evaluate(ground_truth, search_function):\n",
    "    relevance_total = []\n",
    "\n",
    "    for q in tqdm(ground_truth):  # iterate over each query\n",
    "        doc_id = q['document']  # correct document id\n",
    "        results = search_function(q)  # run search\n",
    "        relevance = [d['id'] == doc_id for d in results]  # check if results match the true id\n",
    "        relevance_total.append(relevance)  # collect all relevance flags\n",
    "\n",
    "    return {\n",
    "        'hit_rate': hit_rate(relevance_total),\n",
    "        'mrr': mrr(relevance_total),\n",
    "    }\n"
   ]
  },
  {
   "cell_type": "code",
   "execution_count": 4,
   "id": "0b992f50",
   "metadata": {},
   "outputs": [
    {
     "data": {
      "text/plain": [
       "<minsearch.minsearch.Index at 0x7dcfed897750>"
      ]
     },
     "execution_count": 4,
     "metadata": {},
     "output_type": "execute_result"
    }
   ],
   "source": [
    "# Create a MinSearch index with specified text and keyword fields\n",
    "index = Index(\n",
    "    text_fields=[\"question\", \"section\", \"text\"],  # full-text searchable fields\n",
    "    keyword_fields=[\"course\", \"id\"]  # fields for exact matching\n",
    ")\n",
    "\n",
    "# Fit the index to our document list\n",
    "index.fit(documents)"
   ]
  },
  {
   "cell_type": "code",
   "execution_count": 5,
   "id": "1d6792e7",
   "metadata": {},
   "outputs": [],
   "source": [
    "def search_function(q):\n",
    "    return index.search(\n",
    "        q[\"question\"],  # use the question as the search query\n",
    "        filter_dict={\"course\": q[\"course\"]},  # filter by course to narrow down results\n",
    "        boost_dict={\"question\": 1.5, \"section\": 0.1},  # boost weights for fields\n",
    "        num_results=5  # how many top results to return\n",
    "    )\n"
   ]
  },
  {
   "cell_type": "code",
   "execution_count": 6,
   "id": "5e6b70a6",
   "metadata": {},
   "outputs": [
    {
     "data": {
      "application/vnd.jupyter.widget-view+json": {
       "model_id": "13276ffe8afc4a13ae783d40880dc648",
       "version_major": 2,
       "version_minor": 0
      },
      "text/plain": [
       "  0%|          | 0/4627 [00:00<?, ?it/s]"
      ]
     },
     "metadata": {},
     "output_type": "display_data"
    },
    {
     "name": "stdout",
     "output_type": "stream",
     "text": [
      "{'hit_rate': 0.848714069591528, 'mrr': 0.7283553058137033}\n"
     ]
    }
   ],
   "source": [
    "# Evaluate using the ground truth and the defined search function\n",
    "results = evaluate(ground_truth, search_function)\n",
    "\n",
    "# Print final evaluation metrics\n",
    "print(results)\n"
   ]
  },
  {
   "cell_type": "markdown",
   "id": "15765b07",
   "metadata": {},
   "source": [
    "\n",
    "\n",
    "## Embeddings \n",
    "\n",
    "The latest version of minsearch also supports vector search. \n",
    "We will use it:\n",
    "\n",
    "```python\n",
    "from minsearch import VectorSearch\n",
    "```\n",
    "\n",
    "We will also use TF-IDF and Singular Value Decomposition to \n",
    "create embeddings from texts. You can refer to our\n",
    "[\"Create Your Own Search Engine\" workshop](https://github.com/alexeygrigorev/build-your-own-search-engine)\n",
    "if you want to know more about it.\n",
    "\n",
    "```python\n",
    "from sklearn.feature_extraction.text import TfidfVectorizer\n",
    "from sklearn.decomposition import TruncatedSVD\n",
    "from sklearn.pipeline import make_pipeline\n",
    "```\n",
    "\n",
    "Let's create embeddings for the \"question\" field:\n",
    "\n",
    "```python\n",
    "texts = []\n",
    "\n",
    "for doc in documents:\n",
    "    t = doc['question']\n",
    "    texts.append(t)\n",
    "\n",
    "pipeline = make_pipeline(\n",
    "    TfidfVectorizer(min_df=3),\n",
    "    TruncatedSVD(n_components=128, random_state=1)\n",
    ")\n",
    "X = pipeline.fit_transform(texts)\n",
    "```\n",
    "\n",
    "## Q2. Vector search for question\n",
    "\n",
    "Now let's index these embeddings with minsearch:\n",
    "\n",
    "```python\n",
    "vindex = VectorSearch(keyword_fields={'course'})\n",
    "vindex.fit(X, documents)\n",
    "```\n",
    "\n",
    "Evaluate this seach method. What's MRR for it?\n",
    "\n",
    "- 0.25\n",
    "- 0.35\n",
    "- 0.45\n",
    "- 0.55\n"
   ]
  },
  {
   "cell_type": "code",
   "execution_count": 7,
   "id": "075afbb3",
   "metadata": {},
   "outputs": [],
   "source": [
    "from minsearch import VectorSearch  # For vector-based semantic search\n",
    "from sklearn.feature_extraction.text import TfidfVectorizer  # TF-IDF text vectorization\n",
    "from sklearn.decomposition import TruncatedSVD  # Dimensionality reduction\n",
    "from sklearn.pipeline import make_pipeline  # To chain TF-IDF + SVD\n"
   ]
  },
  {
   "cell_type": "code",
   "execution_count": 8,
   "id": "4828971c",
   "metadata": {},
   "outputs": [],
   "source": [
    "texts = []\n",
    "\n",
    "for doc in documents:\n",
    "    # Extract the 'question' field from each document\n",
    "    t = doc['question']\n",
    "    texts.append(t)\n"
   ]
  },
  {
   "cell_type": "code",
   "execution_count": 9,
   "id": "85959e33",
   "metadata": {},
   "outputs": [],
   "source": [
    "# Create a pipeline: TF-IDF vectorization + Truncated SVD (128 dimensions)\n",
    "pipeline = make_pipeline(\n",
    "    TfidfVectorizer(min_df=3),  # ignore rare words\n",
    "    TruncatedSVD(n_components=128, random_state=1)  # reduce to 128D\n",
    ")\n",
    "\n",
    "# Fit and transform the texts into embeddings (2D numpy array)\n",
    "X = pipeline.fit_transform(texts)\n"
   ]
  },
  {
   "cell_type": "code",
   "execution_count": 10,
   "id": "f4f69cee",
   "metadata": {},
   "outputs": [
    {
     "data": {
      "text/plain": [
       "<minsearch.vector.VectorSearch at 0x7dcfed4f5b90>"
      ]
     },
     "execution_count": 10,
     "metadata": {},
     "output_type": "execute_result"
    }
   ],
   "source": [
    "# Initialize the vector index with 'course' as a keyword filter\n",
    "vindex = VectorSearch(keyword_fields=['course'])\n",
    "\n",
    "# Fit the vector index with our embeddings and original documents\n",
    "vindex.fit(X, documents)\n"
   ]
  },
  {
   "cell_type": "code",
   "execution_count": 11,
   "metadata": {},
   "outputs": [],
   "source": [
    "def vector_search_function(q):\n",
    "    # Convert the input question to a single embedding vector\n",
    "    query_vec = pipeline.transform([q[\"question\"]])  # shape: (1, 128)\n",
    "\n",
    "    # Run the vector search, filter by 'course'\n",
    "    return vindex.search(\n",
    "        query_vector=query_vec[0],  # use 1D vector\n",
    "        filter_dict={\"course\": q[\"course\"]},  # filter documents by course\n",
    "        num_results=5  # return top 5 matches\n",
    "    )\n"
   ]
  },
  {
   "cell_type": "code",
   "execution_count": 12,
   "metadata": {},
   "outputs": [
    {
     "data": {
      "application/vnd.jupyter.widget-view+json": {
       "model_id": "4fe5bcb6e5d844b198e0983d11364c34",
       "version_major": 2,
       "version_minor": 0
      },
      "text/plain": [
       "  0%|          | 0/4627 [00:00<?, ?it/s]"
      ]
     },
     "metadata": {},
     "output_type": "display_data"
    },
    {
     "name": "stdout",
     "output_type": "stream",
     "text": [
      "{'hit_rate': 0.48173762697212014, 'mrr': 0.3568510914199265}\n"
     ]
    }
   ],
   "source": [
    "# Use the same evaluation function from earlier\n",
    "results = evaluate(ground_truth, vector_search_function)\n",
    "\n",
    "# Print metrics\n",
    "print(results)\n"
   ]
  },
  {
   "cell_type": "markdown",
   "id": "ee628940",
   "metadata": {},
   "source": [
    "## Q3. Vector search for question and answer\n",
    "\n",
    "We only used question in Q2. We can use both question and answer:\n",
    "\n",
    "```python\n",
    "texts = []\n",
    "\n",
    "for doc in documents:\n",
    "    t = doc['question'] + ' ' + doc['text']\n",
    "    texts.append(t)\n",
    "```\n",
    "\n",
    "Using the same pipeline (`min_df=3 for TF-IDF vectorizer and `n_components=128` for SVD), evaluate the performance of this\n",
    "approach\n",
    "\n",
    "What's the hitrate?\n",
    "\n",
    "- 0.62\n",
    "- 0.72\n",
    "- 0.82\n",
    "- 0.92"
   ]
  },
  {
   "cell_type": "code",
   "execution_count": 13,
   "id": "8080b6da",
   "metadata": {},
   "outputs": [],
   "source": [
    "texts = []\n",
    "\n",
    "for doc in documents:\n",
    "    # Concatenate question and answer text\n",
    "    t = doc['question'] + ' ' + doc['text']\n",
    "    texts.append(t)\n"
   ]
  },
  {
   "cell_type": "code",
   "execution_count": 14,
   "id": "ff169c3f",
   "metadata": {},
   "outputs": [],
   "source": [
    "from sklearn.feature_extraction.text import TfidfVectorizer\n",
    "from sklearn.decomposition import TruncatedSVD\n",
    "from sklearn.pipeline import make_pipeline\n",
    "\n",
    "# Create pipeline for embeddings\n",
    "pipeline = make_pipeline(\n",
    "    TfidfVectorizer(min_df=3),  # filter rare terms\n",
    "    TruncatedSVD(n_components=128, random_state=1)  # reduce to 128D\n",
    ")\n",
    "\n",
    "# Generate embeddings from combined text\n",
    "X = pipeline.fit_transform(texts)\n"
   ]
  },
  {
   "cell_type": "code",
   "execution_count": 15,
   "id": "bdee3f46",
   "metadata": {},
   "outputs": [
    {
     "data": {
      "text/plain": [
       "<minsearch.vector.VectorSearch at 0x7dcfec522490>"
      ]
     },
     "execution_count": 15,
     "metadata": {},
     "output_type": "execute_result"
    }
   ],
   "source": [
    "from minsearch import VectorSearch\n",
    "\n",
    "# Create a new vector search index with 'course' as keyword field\n",
    "vindex = VectorSearch(keyword_fields=['course'])\n",
    "\n",
    "# Fit the vector search index with embeddings and documents\n",
    "vindex.fit(X, documents)\n"
   ]
  },
  {
   "cell_type": "code",
   "execution_count": 16,
   "id": "7986871b",
   "metadata": {},
   "outputs": [],
   "source": [
    "def vector_search_combined(q):\n",
    "    # Create embedding from the input question only (same pipeline)\n",
    "    query_vec = pipeline.transform([q[\"question\"]])  # query is still only the question\n",
    "\n",
    "    # Perform search using combined vector index\n",
    "    return vindex.search(\n",
    "        query_vector=query_vec[0],\n",
    "        filter_dict={\"course\": q[\"course\"]},\n",
    "        num_results=5\n",
    "    )\n"
   ]
  },
  {
   "cell_type": "code",
   "execution_count": 17,
   "metadata": {},
   "outputs": [
    {
     "data": {
      "application/vnd.jupyter.widget-view+json": {
       "model_id": "b3e6aa2480eb4877b0eb250ae8843e29",
       "version_major": 2,
       "version_minor": 0
      },
      "text/plain": [
       "  0%|          | 0/4627 [00:00<?, ?it/s]"
      ]
     },
     "metadata": {},
     "output_type": "display_data"
    },
    {
     "name": "stdout",
     "output_type": "stream",
     "text": [
      "{'hit_rate': 0.8210503566025502, 'mrr': 0.6711944384410349}\n"
     ]
    }
   ],
   "source": [
    "results = evaluate(ground_truth, vector_search_combined)\n",
    "\n",
    "print(results)\n"
   ]
  },
  {
   "cell_type": "markdown",
   "id": "0912e098",
   "metadata": {},
   "source": [
    "## Q4. Qdrant\n",
    "\n",
    "Now let's evaluate the following settings in Qdrant:\n",
    "\n",
    "- `text = doc['question'] + ' ' + doc['text']`\n",
    "- `model_handle = \"jinaai/jina-embeddings-v2-small-en\"`\n",
    "- `limit = 5`\n",
    "\n",
    "What's the MRR?\n",
    "\n",
    "- 0.65\n",
    "- 0.75\n",
    "- 0.85\n",
    "- 0.95"
   ]
  },
  {
   "cell_type": "code",
   "execution_count": null,
   "id": "7506b6d0",
   "metadata": {},
   "outputs": [],
   "source": [
    "!pip install -qq sentence-transformers"
   ]
  },
  {
   "cell_type": "code",
   "execution_count": null,
   "id": "ac6bfa4e",
   "metadata": {},
   "outputs": [],
   "source": [
    "from sentence_transformers import SentenceTransformer\n",
    "\n",
    "# Load the small Jina model (low-memory version)\n",
    "model = SentenceTransformer(\"jinaai/jina-embeddings-v2-small-en\")"
   ]
  },
  {
   "cell_type": "code",
   "execution_count": null,
   "id": "ed4322b4",
   "metadata": {},
   "outputs": [],
   "source": [
    "texts = []\n",
    "\n",
    "for doc in documents:\n",
    "    # Combine question + answer for embedding\n",
    "    t = doc['question'] + ' ' + doc['text']\n",
    "    texts.append(t)"
   ]
  },
  {
   "cell_type": "code",
   "execution_count": null,
   "id": "868ff83f",
   "metadata": {},
   "outputs": [],
   "source": [
    "import numpy as np\n",
    "\n",
    "# Create embeddings in batches\n",
    "def generate_embeddings(texts, batch_size=32):\n",
    "    embeddings = []\n",
    "    for i in range(0, len(texts), batch_size):\n",
    "        batch = texts[i:i + batch_size]\n",
    "        batch_emb = model.encode(batch, show_progress_bar=True, normalize_embeddings=True)\n",
    "        embeddings.extend(batch_emb)\n",
    "    return np.array(embeddings)\n",
    "\n",
    "X = generate_embeddings(texts)"
   ]
  },
  {
   "cell_type": "code",
   "execution_count": null,
   "metadata": {},
   "outputs": [],
   "source": [
    "from qdrant_client import QdrantClient\n",
    "from qdrant_client.models import Distance, VectorParams, PointStruct\n",
    "\n",
    "# Connect to local or memory-backed Qdrant (in-memory)\n",
    "client = QdrantClient(\":memory:\")  # In-memory Qdrant instance or \"http://localhost:6333\" if running a server\n",
    "\n",
    "# Define vector collection\n",
    "client.recreate_collection(\n",
    "    collection_name=\"faq\",\n",
    "    vectors_config=VectorParams(size=X.shape[1], distance=Distance.COSINE),\n",
    ")\n",
    "\n",
    "# Upload all documents to Qdrant\n",
    "points = []\n",
    "\n",
    "for idx, (vector, doc) in enumerate(zip(X, documents)):\n",
    "    points.append(\n",
    "        PointStruct(\n",
    "            id=idx,\n",
    "            vector=vector,\n",
    "            payload=doc\n",
    "        )\n",
    "    )\n",
    "\n",
    "client.upload_points(collection_name=\"faq\", points=points)\n"
   ]
  },
  {
   "cell_type": "code",
   "execution_count": null,
   "metadata": {},
   "outputs": [],
   "source": [
    "def qdrant_search_function(q):\n",
    "    query_vector = model.encode([q[\"question\"]], normalize_embeddings=True)[0]\n",
    "    \n",
    "    hits = client.search(\n",
    "        collection_name=\"faq\",\n",
    "        query_vector=query_vector,\n",
    "        limit=5,\n",
    "        query_filter={\"must\": [{\"key\": \"course\", \"match\": {\"value\": q[\"course\"]}}]}\n",
    "    )\n",
    "    \n",
    "    return [hit.payload for hit in hits]"
   ]
  },
  {
   "cell_type": "code",
   "execution_count": null,
   "id": "0e82e5d1",
   "metadata": {},
   "outputs": [],
   "source": [
    "results = evaluate(ground_truth, qdrant_search_function)\n",
    "\n",
    "print(results)\n"
   ]
  },
  {
   "cell_type": "code",
   "execution_count": null,
   "id": "29925c31",
   "metadata": {},
   "outputs": [],
   "source": []
  }
 ],
 "metadata": {
  "kernelspec": {
   "display_name": "py311",
   "language": "python",
   "name": "python3"
  },
  "language_info": {
   "codemirror_mode": {
    "name": "ipython",
    "version": 3
   },
   "file_extension": ".py",
   "mimetype": "text/x-python",
   "name": "python",
   "nbconvert_exporter": "python",
   "pygments_lexer": "ipython3",
   "version": "3.11.13"
  }
 },
 "nbformat": 4,
 "nbformat_minor": 5
}
